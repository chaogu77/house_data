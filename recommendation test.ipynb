{
 "cells": [
  {
   "cell_type": "code",
   "execution_count": 1,
   "metadata": {},
   "outputs": [],
   "source": [
    "import pickle\n",
    "from PIL import Image\n",
    "import os\n",
    "import random\n",
    "import matplotlib.pyplot as plt"
   ]
  },
  {
   "cell_type": "code",
   "execution_count": 2,
   "metadata": {},
   "outputs": [],
   "source": [
    "from house_recommendation import recommendation"
   ]
  },
  {
   "cell_type": "code",
   "execution_count": 3,
   "metadata": {},
   "outputs": [],
   "source": [
    "house_data = pickle.load(open('house_db.pickle','rb'))"
   ]
  },
  {
   "cell_type": "code",
   "execution_count": 4,
   "metadata": {},
   "outputs": [],
   "source": [
    "room_order = ['bedrooms_sim','living_rooms_sim','kitchens_sim','bathrooms_sim']"
   ]
  },
  {
   "cell_type": "code",
   "execution_count": null,
   "metadata": {},
   "outputs": [],
   "source": [
    "def pick_random():\n",
    "    result = []\n",
    "    for i in range(4):\n",
    "        num = random.randint(0,4)\n",
    "        pick = random.sample(range(125),k = num)\n",
    "        result.append(pick)\n",
    "    return result"
   ]
  },
  {
   "cell_type": "code",
   "execution_count": 8,
   "metadata": {},
   "outputs": [],
   "source": [
    "def get_sim_matrix(index_list, dictionary, room_order):\n",
    "    matrix_list = []\n",
    "    for i in range(4):\n",
    "        room_index = index_list[i]\n",
    "        room_mat = []\n",
    "        for j in room_index:\n",
    "            room_mat.append(dictionary[j][room_order[i]])\n",
    "        matrix_list.append(room_mat)\n",
    "    return matrix_list"
   ]
  },
  {
   "cell_type": "code",
   "execution_count": null,
   "metadata": {},
   "outputs": [],
   "source": [
    "liked_room = pick_random()\n",
    "disliked_room = pick_random()"
   ]
  },
  {
   "cell_type": "code",
   "execution_count": null,
   "metadata": {},
   "outputs": [],
   "source": [
    "viewed_list = set([x for y in liked_room for x in y]+ [x for y in disliked_room for x in y])\n",
    "available_list = range(125)"
   ]
  },
  {
   "cell_type": "code",
   "execution_count": null,
   "metadata": {},
   "outputs": [],
   "source": [
    "liked_room_mat = get_sim_matrix(liked_room, house_data, room_order)\n",
    "disliked_room_mat = get_sim_matrix(disliked_room, house_data,room_order)"
   ]
  },
  {
   "cell_type": "code",
   "execution_count": null,
   "metadata": {},
   "outputs": [],
   "source": [
    "next_one = recommendation(liked_room_mat, disliked_room_mat, viewed_list,available_list)"
   ]
  },
  {
   "cell_type": "markdown",
   "metadata": {},
   "source": [
    "### viz result "
   ]
  },
  {
   "cell_type": "code",
   "execution_count": null,
   "metadata": {},
   "outputs": [],
   "source": [
    "path = os.getcwd() + '\\\\house_image\\\\'"
   ]
  },
  {
   "cell_type": "code",
   "execution_count": null,
   "metadata": {},
   "outputs": [],
   "source": [
    "folders = os.listdir(path)"
   ]
  },
  {
   "cell_type": "code",
   "execution_count": null,
   "metadata": {},
   "outputs": [],
   "source": [
    "import numpy as np"
   ]
  },
  {
   "cell_type": "code",
   "execution_count": null,
   "metadata": {},
   "outputs": [],
   "source": [
    "room_order_pic = ['bedroom.jpg','living_room.jpg','kitchen.jpg','bathroom.jpg']"
   ]
  },
  {
   "cell_type": "code",
   "execution_count": null,
   "metadata": {},
   "outputs": [],
   "source": [
    "liked_room"
   ]
  },
  {
   "cell_type": "code",
   "execution_count": null,
   "metadata": {},
   "outputs": [],
   "source": [
    "disliked_room"
   ]
  },
  {
   "cell_type": "code",
   "execution_count": null,
   "metadata": {
    "scrolled": false
   },
   "outputs": [],
   "source": [
    "for i in range(4):\n",
    "    type_room = room_order_pic[i]\n",
    "    rooms = liked_room[i]\n",
    "    plt.figure(figsize=(30,30))\n",
    "    n = 1\n",
    "    for room in rooms:\n",
    "        ax = plt.subplot(1,4,n)\n",
    "        ax.set_xlabel('like', fontsize = 10)\n",
    "        im = Image.open('./house_image/'+str(folders[room])+'/'+type_room, 'r')\n",
    "        im = im.resize((300,200))\n",
    "        plt.imshow(np.asarray(im))\n",
    "        n += 1\n",
    "    plt.figure(figsize=(20,20))\n",
    "    d_rooms = disliked_room[i]\n",
    "    j = 1\n",
    "    for d_room in d_rooms:\n",
    "        ax = plt.subplot(1,4,j)\n",
    "        ax.set_xlabel('dislike', fontsize = 10)\n",
    "        im = Image.open('./house_image/'+str(folders[d_room])+'/'+type_room, 'r')\n",
    "        im = im.resize((300,200))\n",
    "        plt.imshow(np.asarray(im))\n",
    "        j += 1\n",
    "    plt.figure(figsize=(5,5))\n",
    "    im = Image.open('./house_image/'+str(folders[next_one])+'/'+type_room, 'r')\n",
    "    im = im.resize((300,200))\n",
    "    plt.imshow(np.asarray(im))"
   ]
  },
  {
   "cell_type": "markdown",
   "metadata": {},
   "source": [
    "## test on initial situation "
   ]
  },
  {
   "cell_type": "code",
   "execution_count": 9,
   "metadata": {},
   "outputs": [],
   "source": [
    "liked_room = [[],[],[],[]]\n",
    "disliked_room = [[],[],[],[]]\n",
    "viewed_list = []\n",
    "available_list = range(125)"
   ]
  },
  {
   "cell_type": "code",
   "execution_count": 10,
   "metadata": {},
   "outputs": [],
   "source": [
    "liked_room_mat = get_sim_matrix(liked_room, house_data, room_order)\n",
    "disliked_room_mat = get_sim_matrix(disliked_room, house_data,room_order)"
   ]
  },
  {
   "cell_type": "code",
   "execution_count": 12,
   "metadata": {},
   "outputs": [],
   "source": [
    "next_one = recommendation(liked_room_mat, disliked_room_mat, viewed_list,available_list)"
   ]
  },
  {
   "cell_type": "code",
   "execution_count": 13,
   "metadata": {},
   "outputs": [
    {
     "data": {
      "text/plain": [
       "27"
      ]
     },
     "execution_count": 13,
     "metadata": {},
     "output_type": "execute_result"
    }
   ],
   "source": [
    "next_one"
   ]
  }
 ],
 "metadata": {
  "kernelspec": {
   "display_name": "Python [conda env:tensorflow_workshop]",
   "language": "python",
   "name": "conda-env-tensorflow_workshop-py"
  },
  "language_info": {
   "codemirror_mode": {
    "name": "ipython",
    "version": 3
   },
   "file_extension": ".py",
   "mimetype": "text/x-python",
   "name": "python",
   "nbconvert_exporter": "python",
   "pygments_lexer": "ipython3",
   "version": "3.6.4"
  }
 },
 "nbformat": 4,
 "nbformat_minor": 2
}
