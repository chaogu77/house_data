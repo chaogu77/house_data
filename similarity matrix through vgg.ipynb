{
 "cells": [
  {
   "cell_type": "code",
   "execution_count": 1,
   "metadata": {},
   "outputs": [
    {
     "name": "stderr",
     "output_type": "stream",
     "text": [
      "C:\\Users\\chao_gu\\Anaconda3\\envs\\tensorflow_workshop\\lib\\site-packages\\h5py\\__init__.py:36: FutureWarning: Conversion of the second argument of issubdtype from `float` to `np.floating` is deprecated. In future, it will be treated as `np.float64 == np.dtype(float).type`.\n",
      "  from ._conv import register_converters as _register_converters\n"
     ]
    }
   ],
   "source": [
    "import tensorflow as tf\n",
    "import matplotlib.pyplot as plt\n",
    "import numpy as np\n",
    "%matplotlib inline\n",
    "\n",
    "from PIL import Image\n",
    "import os"
   ]
  },
  {
   "cell_type": "markdown",
   "metadata": {},
   "source": [
    "## load pictures"
   ]
  },
  {
   "cell_type": "code",
   "execution_count": 2,
   "metadata": {},
   "outputs": [],
   "source": [
    "IMAGE_SHAPE = (200,300)"
   ]
  },
  {
   "cell_type": "code",
   "execution_count": 3,
   "metadata": {},
   "outputs": [],
   "source": [
    "IMAGE_SHAPE_INPUT = (200,300,3)"
   ]
  },
  {
   "cell_type": "code",
   "execution_count": 4,
   "metadata": {},
   "outputs": [],
   "source": [
    "path = os.getcwd() + '\\\\house_image\\\\'"
   ]
  },
  {
   "cell_type": "code",
   "execution_count": 5,
   "metadata": {},
   "outputs": [],
   "source": [
    "folders = os.listdir(path)"
   ]
  },
  {
   "cell_type": "code",
   "execution_count": 6,
   "metadata": {},
   "outputs": [],
   "source": [
    "bedrooms = [path+i+'\\\\'+'bedroom.jpg' for i in folders]\n",
    "bathrooms = [path+i+'\\\\'+'bathroom.jpg' for i in folders]\n",
    "living_rooms = [path+i+'\\\\'+'living_room.jpg' for i in folders]\n",
    "kitchens = [path+i+'\\\\'+'kitchen.jpg' for i in folders]"
   ]
  },
  {
   "cell_type": "markdown",
   "metadata": {},
   "source": [
    "## build model - VGG"
   ]
  },
  {
   "cell_type": "code",
   "execution_count": 7,
   "metadata": {},
   "outputs": [],
   "source": [
    "#weight to normalize image pixel value for vgg19 model\n",
    "RGB_MEAN_PIXELS = np.array([123.68,116.779,103.939]).reshape((1,1,1,3)).astype(np.float32)"
   ]
  },
  {
   "cell_type": "code",
   "execution_count": 8,
   "metadata": {},
   "outputs": [
    {
     "name": "stderr",
     "output_type": "stream",
     "text": [
      "Using TensorFlow backend.\n"
     ]
    }
   ],
   "source": [
    "import keras"
   ]
  },
  {
   "cell_type": "code",
   "execution_count": 9,
   "metadata": {},
   "outputs": [],
   "source": [
    "def get_feature_matrix_vgg(path_list):\n",
    "    image_array = []\n",
    "    for img in path_list:\n",
    "        im = Image.open(img)\n",
    "        im = im.resize(IMAGE_SHAPE[::-1])\n",
    "        image_array.append(np.array(im))\n",
    "    image_array = np.array(image_array)\n",
    "    vgg19 = keras.applications.VGG19(weights='imagenet', include_top=False)\n",
    "    embedding = []\n",
    "    for i in image_array:\n",
    "        img_input = np.expand_dims(i,0)\n",
    "        keras_output = vgg19.predict(np.flip(img_input-RGB_MEAN_PIXELS,axis = -1))\n",
    "        embedding.append(keras_output)\n",
    "    return np.array(embedding)"
   ]
  },
  {
   "cell_type": "code",
   "execution_count": 11,
   "metadata": {},
   "outputs": [],
   "source": [
    "bedrooms_embedded_vgg = get_feature_matrix_vgg(bedrooms)\n",
    "bathrooms_embedded_vgg = get_feature_matrix_vgg(bathrooms)\n",
    "kitchens_embedded_vgg = get_feature_matrix_vgg(kitchens)\n",
    "living_rooms_embedded_vgg = get_feature_matrix_vgg(living_rooms)"
   ]
  },
  {
   "cell_type": "code",
   "execution_count": 12,
   "metadata": {},
   "outputs": [
    {
     "data": {
      "text/plain": [
       "(125, 1, 6, 9, 512)"
      ]
     },
     "execution_count": 12,
     "metadata": {},
     "output_type": "execute_result"
    }
   ],
   "source": [
    "bedrooms_embedded_vgg.shape"
   ]
  },
  {
   "cell_type": "code",
   "execution_count": 13,
   "metadata": {},
   "outputs": [],
   "source": [
    "def similarity_matrix(image_embedded):\n",
    "    n = image_embedded.shape[0]\n",
    "    similarity_mat = np.zeros((n,n))\n",
    "    for i in range(n):\n",
    "        img_i = image_embedded[i].flatten()\n",
    "        for j in range(n):\n",
    "            img_j = image_embedded[j].flatten()\n",
    "            result = 1-spatial.distance.cosine(img_i,img_j)\n",
    "            similarity_mat[i][j] = result\n",
    "    return similarity_mat"
   ]
  },
  {
   "cell_type": "code",
   "execution_count": 14,
   "metadata": {},
   "outputs": [],
   "source": [
    "from scipy import spatial"
   ]
  },
  {
   "cell_type": "code",
   "execution_count": 15,
   "metadata": {},
   "outputs": [],
   "source": [
    "bedrooms_sim = similarity_matrix(bedrooms_embedded_vgg)\n",
    "bathrooms_sim = similarity_matrix(bathrooms_embedded_vgg)\n",
    "kitchens_sim = similarity_matrix(kitchens_embedded_vgg)\n",
    "living_rooms_sim = similarity_matrix(living_rooms_embedded_vgg)"
   ]
  },
  {
   "cell_type": "code",
   "execution_count": 16,
   "metadata": {},
   "outputs": [],
   "source": [
    "import pickle"
   ]
  },
  {
   "cell_type": "code",
   "execution_count": 17,
   "metadata": {},
   "outputs": [],
   "source": [
    "with open('bedroom_sim_mat.pickle','wb') as f:\n",
    "    pickle.dump(bedrooms_sim,f)"
   ]
  },
  {
   "cell_type": "code",
   "execution_count": 18,
   "metadata": {},
   "outputs": [],
   "source": [
    "with open('bathroom_sim_mat.pickle','wb') as f:\n",
    "    pickle.dump(bathrooms_sim,f)"
   ]
  },
  {
   "cell_type": "code",
   "execution_count": 19,
   "metadata": {},
   "outputs": [],
   "source": [
    "with open('kitchen_sim_mat.pickle','wb') as f:\n",
    "    pickle.dump(kitchens_sim,f)"
   ]
  },
  {
   "cell_type": "code",
   "execution_count": 20,
   "metadata": {},
   "outputs": [],
   "source": [
    "with open('living_room_sim_mat.pickle','wb') as f:\n",
    "    pickle.dump(living_rooms_sim,f)"
   ]
  },
  {
   "cell_type": "code",
   "execution_count": null,
   "metadata": {},
   "outputs": [],
   "source": []
  }
 ],
 "metadata": {
  "kernelspec": {
   "display_name": "Python [conda env:tensorflow_workshop]",
   "language": "python",
   "name": "conda-env-tensorflow_workshop-py"
  },
  "language_info": {
   "codemirror_mode": {
    "name": "ipython",
    "version": 3
   },
   "file_extension": ".py",
   "mimetype": "text/x-python",
   "name": "python",
   "nbconvert_exporter": "python",
   "pygments_lexer": "ipython3",
   "version": "3.6.4"
  }
 },
 "nbformat": 4,
 "nbformat_minor": 2
}
